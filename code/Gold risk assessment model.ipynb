{
 "cells": [
  {
   "cell_type": "code",
   "execution_count": 173,
   "metadata": {},
   "outputs": [],
   "source": [
    "#coding=utf-8\n",
    "import pandas as pd\n",
    "import matplotlib.pyplot as plt \n",
    "from mpl_finance import candlestick_ochl  \n",
    "#从文件里得到数据\n",
    "df = pd.read_csv('./data/LBMA-GOLD_test.csv',encoding='gbk')"
   ]
  },
  {
   "cell_type": "code",
   "execution_count": 174,
   "metadata": {
    "scrolled": true
   },
   "outputs": [
    {
     "data": {
      "text/plain": [
       "Index(['锘緿ate', '棰勬祴缁撴灉_Y', 'USD (PM)'], dtype='object')"
      ]
     },
     "execution_count": 174,
     "metadata": {},
     "output_type": "execute_result"
    }
   ],
   "source": [
    "df.columns"
   ]
  },
  {
   "cell_type": "code",
   "execution_count": 175,
   "metadata": {},
   "outputs": [],
   "source": [
    "df.columns = ['Date','exchange rate','real price']"
   ]
  },
  {
   "cell_type": "code",
   "execution_count": 197,
   "metadata": {},
   "outputs": [],
   "source": [
    "profit = 0\n",
    "gold = 872/1324"
   ]
  },
  {
   "cell_type": "code",
   "execution_count": 198,
   "metadata": {},
   "outputs": [],
   "source": [
    "ls1=[]\n",
    "ls2=[]\n",
    "ls3=[]"
   ]
  },
  {
   "cell_type": "code",
   "execution_count": 199,
   "metadata": {},
   "outputs": [
    {
     "name": "stdout",
     "output_type": "stream",
     "text": [
      "0.6586102719033232\n",
      "1793.9920000000002\n",
      "1237.7711128988426\n"
     ]
    }
   ],
   "source": [
    "#!/usr/bin/env python\n",
    "#coding=utf-8\n",
    "temp = 0\n",
    "import pandas as pd\n",
    "#从文件里得到数据\n",
    "df = pd.read_csv('./data/LBMA-GOLD_test.csv',encoding='gbk')\n",
    "#maIntervalList = [30,3]\n",
    "df.columns = ['Date','exchange rate','real price']\n",
    "#虽然在后文里只用到了5日均线，但这里演示设置3种均线\n",
    "#for maInterval in maIntervalList:\n",
    "#    df['MA_' + str(maInterval)] = df['exchange rate'].rolling(window=maInterval).mean()\n",
    "cnt=0    \n",
    "fall_num=0\n",
    "print(gold)\n",
    "while cnt<=len(df)-1:\n",
    "     try:\n",
    "        if df.iloc[cnt+1]['exchange rate']<df.iloc[cnt]['exchange rate'] \\\n",
    "         and (df.iloc[cnt]['exchange rate']-df.iloc[cnt+1]['exchange rate'])>df.iloc[cnt]['exchange rate']*0.02:\n",
    "\n",
    "                      \n",
    "                    if gold>0:\n",
    "                        tp_profit=profit\n",
    "                        tp_gold=gold\n",
    "                        #print(\"Buy Point on:\" + df.iloc[cnt]['Date'])\n",
    "                        temp = gold*0.2\n",
    "                         #temp*df.iloc[cnt]['exchange rate']*0.01\n",
    "                        gold = gold-temp\n",
    "                        profit =profit +  temp*df.iloc[cnt]['exchange rate']\n",
    "                        profit = profit - temp*df.iloc[cnt]['exchange rate']*0.01\n",
    "                        if df.iloc[cnt+1]['real price']>df.iloc[cnt]['real price']:\n",
    "                            if(((tp_profit+tp_gold*df.iloc[cnt+1]['real price'])-(profit+gold*df.iloc[cnt]['real price']))/(tp_profit+tp_gold*df.iloc[cnt+1]['real price'])>0):\n",
    "                                fall_num=fall_num+1\n",
    "                                ls1.append(((tp_profit+tp_gold*df.iloc[cnt+1]['real price'])-(profit+gold*df.iloc[cnt]['real price']))/(tp_profit+tp_gold*df.iloc[cnt+1]['real price']))\n",
    "                     \n",
    "        elif df.iloc[cnt+1]['exchange rate']>df.iloc[cnt]['exchange rate'] \\\n",
    "          and (df.iloc[cnt+1]['exchange rate']-df.iloc[cnt]['exchange rate'])>df.iloc[cnt]['exchange rate']*0.01:\n",
    "                    \n",
    "                    if profit>0:\n",
    "                        tp_profit=profit\n",
    "                        tp_gold=gold\n",
    "                        #print(\"Buy Point on:\" + df.iloc[cnt]['Date'])\n",
    "                        temp = profit *0.2\n",
    "                        profit = profit - temp\n",
    "                        gold = gold + temp*(1/df.iloc[cnt]['exchange rate'])\n",
    "                        profit = profit - temp*0.01\n",
    "                        if df.iloc[cnt+1]['real price']<df.iloc[cnt]['real price']:\n",
    "                            \n",
    "                            if(((tp_profit+tp_gold*df.iloc[cnt]['real price'])-(profit+gold*df.iloc[cnt+1]['real price']))/(tp_profit+tp_gold*df.iloc[cnt]['real price'])>0):\n",
    "                                fall_num=fall_num+1\n",
    "                                ls1.append(((tp_profit+tp_gold*df.iloc[cnt]['real price'])-(profit+gold*df.iloc[cnt+1]['real price']))/(tp_profit+tp_gold*df.iloc[cnt]['real price']))\n",
    "                            \n",
    "     except: \n",
    "         #ls1.append(0)\n",
    "            #print('#')\n",
    "            pass\n",
    "     cnt=cnt+1\n",
    "     #print(cnt)\n",
    "     \n",
    "    \n",
    "#print(df.iloc[cnt-1]['exchange rate'])\n",
    "total_profit=profit+gold*df.iloc[cnt-1]['exchange rate']\n",
    "print(total_profit)\n"
   ]
  },
  {
   "cell_type": "code",
   "execution_count": 180,
   "metadata": {},
   "outputs": [
    {
     "data": {
      "text/plain": [
       "171.0509273772543"
      ]
     },
     "execution_count": 180,
     "metadata": {},
     "output_type": "execute_result"
    }
   ],
   "source": [
    "profit"
   ]
  },
  {
   "cell_type": "code",
   "execution_count": 149,
   "metadata": {},
   "outputs": [
    {
     "data": {
      "text/plain": [
       "38"
      ]
     },
     "execution_count": 149,
     "metadata": {},
     "output_type": "execute_result"
    }
   ],
   "source": [
    "len(ls1)"
   ]
  },
  {
   "cell_type": "code",
   "execution_count": 181,
   "metadata": {},
   "outputs": [
    {
     "data": {
      "text/plain": [
       "0.5946069912918164"
      ]
     },
     "execution_count": 181,
     "metadata": {},
     "output_type": "execute_result"
    }
   ],
   "source": [
    "gold"
   ]
  },
  {
   "cell_type": "code",
   "execution_count": 150,
   "metadata": {},
   "outputs": [
    {
     "data": {
      "text/plain": [
       "[0.007879546361682596,\n",
       " 0.0028070035708638364,\n",
       " 0.005445362917532394,\n",
       " 0.004381916585692398,\n",
       " 0.007470384205633335,\n",
       " 0.004164149823262166,\n",
       " 0.00018107531222931442,\n",
       " 0.005653459616903824,\n",
       " 0.008417928144299876,\n",
       " 0.001552223554305958,\n",
       " 0.0018157403237009616,\n",
       " 0.0008217623467468149,\n",
       " 0.0033365186672391018,\n",
       " 0.0056718867086548,\n",
       " 0.010414190466536646,\n",
       " 0.0018375142521571243,\n",
       " 0.016095003527899835,\n",
       " 0.003919448960675424,\n",
       " 0.02367387382712978,\n",
       " 0.0006382136763378383,\n",
       " 0.0032369920685606994,\n",
       " 0.0003488295786865018,\n",
       " 0.009226136505702646,\n",
       " 0.03924994181762084,\n",
       " 0.003958367038714331,\n",
       " 0.023038742756844654,\n",
       " 0.001741660116351324,\n",
       " 0.001593344507894696,\n",
       " 0.010675998406985942,\n",
       " 0.020984008354855015,\n",
       " 0.009990898686303972,\n",
       " 0.012634831852664296,\n",
       " 0.002480514053252925,\n",
       " 0.0013096996847007806,\n",
       " 0.00012496474142311293,\n",
       " 0.009518390182061694,\n",
       " 0.004986845288561594,\n",
       " 0.010443639628944594]"
      ]
     },
     "execution_count": 150,
     "metadata": {},
     "output_type": "execute_result"
    }
   ],
   "source": [
    "ls1"
   ]
  },
  {
   "cell_type": "code",
   "execution_count": 160,
   "metadata": {},
   "outputs": [
    {
     "data": {
      "text/plain": [
       "0.5946069912918164"
      ]
     },
     "execution_count": 160,
     "metadata": {},
     "output_type": "execute_result"
    }
   ],
   "source": [
    "gold"
   ]
  },
  {
   "cell_type": "code",
   "execution_count": 200,
   "metadata": {},
   "outputs": [
    {
     "data": {
      "text/plain": [
       "38"
      ]
     },
     "execution_count": 200,
     "metadata": {},
     "output_type": "execute_result"
    }
   ],
   "source": [
    "fall_num"
   ]
  },
  {
   "cell_type": "code",
   "execution_count": 24,
   "metadata": {},
   "outputs": [
    {
     "data": {
      "text/plain": [
       "127227.65409027635"
      ]
     },
     "execution_count": 24,
     "metadata": {},
     "output_type": "execute_result"
    }
   ],
   "source": [
    "total_profit"
   ]
  },
  {
   "cell_type": "code",
   "execution_count": 21,
   "metadata": {},
   "outputs": [],
   "source": [
    "output_excel = {'美元数量':[], '比特币数量':[],'投资比特币总资产':[]}"
   ]
  },
  {
   "cell_type": "code",
   "execution_count": 57,
   "metadata": {},
   "outputs": [],
   "source": [
    "x_data = data.iloc[1:, 0]"
   ]
  },
  {
   "cell_type": "code",
   "execution_count": 61,
   "metadata": {},
   "outputs": [
    {
     "data": {
      "text/plain": [
       "1820"
      ]
     },
     "execution_count": 61,
     "metadata": {},
     "output_type": "execute_result"
    }
   ],
   "source": [
    "len(ls3)"
   ]
  },
  {
   "cell_type": "code",
   "execution_count": 60,
   "metadata": {},
   "outputs": [
    {
     "data": {
      "text/plain": [
       "19584.877021598702"
      ]
     },
     "execution_count": 60,
     "metadata": {},
     "output_type": "execute_result"
    }
   ],
   "source": [
    "ls3.pop()"
   ]
  },
  {
   "cell_type": "code",
   "execution_count": 62,
   "metadata": {},
   "outputs": [
    {
     "data": {
      "text/plain": [
       "<matplotlib.collections.PathCollection at 0x1a9c2fc3358>"
      ]
     },
     "execution_count": 62,
     "metadata": {},
     "output_type": "execute_result"
    },
    {
     "data": {
      "image/png": "[encoded data removed]",
      "text/plain": [
       "<Figure size 432x288 with 1 Axes>"
      ]
     },
     "metadata": {
      "needs_background": "light"
     },
     "output_type": "display_data"
    }
   ],
   "source": [
    "plt.scatter(x_data, ls3, s=1)"
   ]
  },
  {
   "cell_type": "code",
   "execution_count": 40,
   "metadata": {},
   "outputs": [
    {
     "data": {
      "text/plain": [
       "[0,\n",
       " 0,\n",
       " 0,\n",
       " 0,\n",
       " 0,\n",
       " 0,\n",
       " 0,\n",
       " 0,\n",
       " 0,\n",
       " 0,\n",
       " 0,\n",
       " 0,\n",
       " 0,\n",
       " 0,\n",
       " 0,\n",
       " 0,\n",
       " 0,\n",
       " 0,\n",
       " 0,\n",
       " 0,\n",
       " 0,\n",
       " 0,\n",
       " 0,\n",
       " 0,\n",
       " 0,\n",
       " 0,\n",
       " 0,\n",
       " 0,\n",
       " 0,\n",
       " 0,\n",
       " 0,\n",
       " 0,\n",
       " 0,\n",
       " 0,\n",
       " 0,\n",
       " 0,\n",
       " 0,\n",
       " 0,\n",
       " 0,\n",
       " 0,\n",
       " 0,\n",
       " 0,\n",
       " 0,\n",
       " 0,\n",
       " 0,\n",
       " 0,\n",
       " 0,\n",
       " 0,\n",
       " 0,\n",
       " 0,\n",
       " 0,\n",
       " 0,\n",
       " 0,\n",
       " 0,\n",
       " 0,\n",
       " 0,\n",
       " 0,\n",
       " 0,\n",
       " 0,\n",
       " 0,\n",
       " 0,\n",
       " 0,\n",
       " 0,\n",
       " 0,\n",
       " 0,\n",
       " 0,\n",
       " 0,\n",
       " 0,\n",
       " 0,\n",
       " 0,\n",
       " 0,\n",
       " 0,\n",
       " 0,\n",
       " 0,\n",
       " 0,\n",
       " 0,\n",
       " 0,\n",
       " 0,\n",
       " 0,\n",
       " 0,\n",
       " 0,\n",
       " 0,\n",
       " 0,\n",
       " 0,\n",
       " 0,\n",
       " 0,\n",
       " 0,\n",
       " 0,\n",
       " 0,\n",
       " 0,\n",
       " 0,\n",
       " 0,\n",
       " 0,\n",
       " 0,\n",
       " 0,\n",
       " 0,\n",
       " 0,\n",
       " 0,\n",
       " 0,\n",
       " 0,\n",
       " 0,\n",
       " 0,\n",
       " 0,\n",
       " 0,\n",
       " 0,\n",
       " 0,\n",
       " 0,\n",
       " 0,\n",
       " 0,\n",
       " 0,\n",
       " 0,\n",
       " 0,\n",
       " 0,\n",
       " 0,\n",
       " 0,\n",
       " 0,\n",
       " 0,\n",
       " 0,\n",
       " 0,\n",
       " 0,\n",
       " 0,\n",
       " 0,\n",
       " 0,\n",
       " 0,\n",
       " 0,\n",
       " 0,\n",
       " 0,\n",
       " 0,\n",
       " 0,\n",
       " 0,\n",
       " 0,\n",
       " 0,\n",
       " 0,\n",
       " 0,\n",
       " 0,\n",
       " 0,\n",
       " 0,\n",
       " 0,\n",
       " 0,\n",
       " 0,\n",
       " 0,\n",
       " 0,\n",
       " 0,\n",
       " 0,\n",
       " 0,\n",
       " 0,\n",
       " 0,\n",
       " 0,\n",
       " 0,\n",
       " 0,\n",
       " 0,\n",
       " 0,\n",
       " 0,\n",
       " 0,\n",
       " 0,\n",
       " 0,\n",
       " 0,\n",
       " 0,\n",
       " 0,\n",
       " 0,\n",
       " 0,\n",
       " 0,\n",
       " 0,\n",
       " 0,\n",
       " 0,\n",
       " 0,\n",
       " 0,\n",
       " 0,\n",
       " 0,\n",
       " 0,\n",
       " 0,\n",
       " 0,\n",
       " 0,\n",
       " 0,\n",
       " 0,\n",
       " 0,\n",
       " 0,\n",
       " 0,\n",
       " 0,\n",
       " 0,\n",
       " 0,\n",
       " 0,\n",
       " 0,\n",
       " 0,\n",
       " 0,\n",
       " 0,\n",
       " 0,\n",
       " 0,\n",
       " 0,\n",
       " 0,\n",
       " 0,\n",
       " 0,\n",
       " 0,\n",
       " 0,\n",
       " 0,\n",
       " 0,\n",
       " 0,\n",
       " 0,\n",
       " 0,\n",
       " 0,\n",
       " 0,\n",
       " 0,\n",
       " 0,\n",
       " 0,\n",
       " 0,\n",
       " 0,\n",
       " 0,\n",
       " 0,\n",
       " 0,\n",
       " 0,\n",
       " 0,\n",
       " 0,\n",
       " 0,\n",
       " 0,\n",
       " 0,\n",
       " 0,\n",
       " 0,\n",
       " 0,\n",
       " 0,\n",
       " 0,\n",
       " 0,\n",
       " 0,\n",
       " 0,\n",
       " 0,\n",
       " 0,\n",
       " 0,\n",
       " 0,\n",
       " 0,\n",
       " 0,\n",
       " 0,\n",
       " 0,\n",
       " 0,\n",
       " 0,\n",
       " 0,\n",
       " 0,\n",
       " 0,\n",
       " 0,\n",
       " 0,\n",
       " 0,\n",
       " 0,\n",
       " 0,\n",
       " 0,\n",
       " 0,\n",
       " 0,\n",
       " 0,\n",
       " 0,\n",
       " 0,\n",
       " 0,\n",
       " 0,\n",
       " 0,\n",
       " 0,\n",
       " 0,\n",
       " 0,\n",
       " 0,\n",
       " 0,\n",
       " 0,\n",
       " 0,\n",
       " 0,\n",
       " 0,\n",
       " 0,\n",
       " 0,\n",
       " 0,\n",
       " 0,\n",
       " 0,\n",
       " 0,\n",
       " 0,\n",
       " 0,\n",
       " 0,\n",
       " 0,\n",
       " 0,\n",
       " 0,\n",
       " 0,\n",
       " 0,\n",
       " 0,\n",
       " 0,\n",
       " 0,\n",
       " 0,\n",
       " 0,\n",
       " 0,\n",
       " 0,\n",
       " 0,\n",
       " 0,\n",
       " 0,\n",
       " 0,\n",
       " 0,\n",
       " 0,\n",
       " 0,\n",
       " 0,\n",
       " 0,\n",
       " 0,\n",
       " 0,\n",
       " 0,\n",
       " 0,\n",
       " 0,\n",
       " 0,\n",
       " 0,\n",
       " 0,\n",
       " 0,\n",
       " 0,\n",
       " 0,\n",
       " 0,\n",
       " 0,\n",
       " 0,\n",
       " 0,\n",
       " 0,\n",
       " 0,\n",
       " 0,\n",
       " 0,\n",
       " 0,\n",
       " 0,\n",
       " 0,\n",
       " 0,\n",
       " 0,\n",
       " 0,\n",
       " 0,\n",
       " 0,\n",
       " 0,\n",
       " 0,\n",
       " 0,\n",
       " 0,\n",
       " 0,\n",
       " 0,\n",
       " 0,\n",
       " 0,\n",
       " 0,\n",
       " 0,\n",
       " 0,\n",
       " 0,\n",
       " 0,\n",
       " 0,\n",
       " 0,\n",
       " 0]"
      ]
     },
     "execution_count": 40,
     "metadata": {},
     "output_type": "execute_result"
    }
   ],
   "source": [
    "ls1"
   ]
  },
  {
   "cell_type": "code",
   "execution_count": 24,
   "metadata": {},
   "outputs": [],
   "source": [
    "output_excel['美元数量'] = ls1\n",
    "output_excel['比特币数量'] = ls2\n",
    "output_excel['投资比特币总资产'] = ls3\n",
    "#output_excel['kernel'] = kernel_list\n",
    "#output_excel['score'] = score_list\n",
    "output = pd.DataFrame(output_excel)\n",
    "output.to_excel('3_score.xlsx', index=False)"
   ]
  }
 ],
 "metadata": {
  "kernelspec": {
   "display_name": "Python 3",
   "language": "python",
   "name": "python3"
  },
  "language_info": {
   "codemirror_mode": {
    "name": "ipython",
    "version": 3
   },
   "file_extension": ".py",
   "mimetype": "text/x-python",
   "name": "python",
   "nbconvert_exporter": "python",
   "pygments_lexer": "ipython3",
   "version": "3.7.0"
  }
 },
 "nbformat": 4,
 "nbformat_minor": 2
}
